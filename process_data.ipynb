{
 "cells": [
  {
   "cell_type": "code",
   "execution_count": 22,
   "metadata": {
    "collapsed": true
   },
   "outputs": [
    {
     "name": "stdout",
     "output_type": "stream",
     "text": [
      "    system_name kpi_name      value\n",
      "0        3D机房可视      cpu   7.713041\n",
      "1         BPM应用      cpu   3.388397\n",
      "2           ERP      cpu   1.131600\n",
      "3         ESB服务      cpu   0.928918\n",
      "4         ETL工具      cpu   0.322463\n",
      "..          ...      ...        ...\n",
      "99         运营监测      cpu  13.278854\n",
      "100       配网标准化      cpu   0.304846\n",
      "101        防灾减灾      cpu   6.227390\n",
      "102       项目全过程      cpu   1.876224\n",
      "103       高压精益化      cpu   5.382358\n",
      "\n",
      "[104 rows x 3 columns]\n"
     ]
    }
   ],
   "source": [
    "import os\n",
    "import pandas as pd\n",
    "def get_mean_usage(dir_file_path, kpi_name, index_name):\n",
    "    ret_df = pd.DataFrame(columns=[\"system_name\",\"kpi_name\",\"value\"])\n",
    "    for root,dirs,files in os.walk(dir_file_path):\n",
    "        for _dir in dirs:\n",
    "            pass\n",
    "        for file in files:\n",
    "            file_path = os.path.join(root,file)\n",
    "            df = pd.read_csv(file_path)\n",
    "            all_usage = 0\n",
    "            system_name = df['dim1_name'][0]\n",
    "            # 对于每一行，通过列名name访问对应的元素\n",
    "            for row in df.itertuples():\n",
    "                val = getattr(row,index_name)\n",
    "                all_usage += float(val)\n",
    "            avg_usage = all_usage / len(df)\n",
    "            data = {\"system_name\" : system_name, \"kpi_name\" : kpi_name, \"value\" : avg_usage}\n",
    "            ret_df = ret_df.append(data,ignore_index=True)\n",
    "    print(ret_df)\n",
    "    ret_df.to_csv('./' + kpi_name + '.csv')\n",
    "get_mean_usage(r'D:\\data\\modify\\cpu','cpu','cpu_kpi_val')"
   ]
  },
  {
   "cell_type": "code",
   "execution_count": 23,
   "outputs": [
    {
     "name": "stdout",
     "output_type": "stream",
     "text": [
      "    system_name kpi_name      value\n",
      "0        3D机房可视     disk  39.644177\n",
      "1         BPM应用     disk  61.135952\n",
      "2           ERP     disk  33.345642\n",
      "3         ESB服务     disk  54.442156\n",
      "4         ETL工具     disk  22.752082\n",
      "..          ...      ...        ...\n",
      "98         运营监测     disk  46.192963\n",
      "99        配网标准化     disk  76.699934\n",
      "100        防灾减灾     disk  39.817706\n",
      "101       项目全过程     disk  64.543119\n",
      "102       高压精益化     disk  46.108559\n",
      "\n",
      "[103 rows x 3 columns]\n"
     ]
    }
   ],
   "source": [
    "get_mean_usage(r'D:\\data\\modify\\disk','disk','disk_kpi_val')"
   ],
   "metadata": {
    "collapsed": false,
    "pycharm": {
     "name": "#%%\n"
    }
   }
  },
  {
   "cell_type": "code",
   "execution_count": 24,
   "outputs": [
    {
     "name": "stdout",
     "output_type": "stream",
     "text": [
      "   system_name kpi_name      value\n",
      "0       3D机房可视   memory  26.696981\n",
      "1        BPM应用   memory  52.781906\n",
      "2          ERP   memory  10.775265\n",
      "3        ESB服务   memory  39.112188\n",
      "4        ETL工具   memory  22.408314\n",
      "..         ...      ...        ...\n",
      "93        运营监测   memory  15.870375\n",
      "94       配网标准化   memory  32.741798\n",
      "95        防灾减灾   memory  24.414204\n",
      "96       项目全过程   memory  11.522255\n",
      "97       高压精益化   memory  42.880840\n",
      "\n",
      "[98 rows x 3 columns]\n"
     ]
    }
   ],
   "source": [
    "get_mean_usage(r'D:\\data\\modify\\memory','memory','memory_kpi_val')"
   ],
   "metadata": {
    "collapsed": false,
    "pycharm": {
     "name": "#%%\n"
    }
   }
  },
  {
   "cell_type": "code",
   "execution_count": 34,
   "outputs": [],
   "source": [
    "def percent(file_path):\n",
    "    df = pd.read_csv(file_path)\n",
    "    zero_to_ten = 0\n",
    "    ten_to_thirty = 0\n",
    "    under_fifty = 0\n",
    "    bigger_eighty = 0\n",
    "    for row in df.itertuples():\n",
    "        val = getattr(row,'value')\n",
    "        val = float(val)\n",
    "        if val <= 10:\n",
    "            zero_to_ten += 1\n",
    "        if 10 < val <= 30:\n",
    "            ten_to_thirty += 1\n",
    "        if val <= 50:\n",
    "            under_fifty += 1\n",
    "        if val > 80:\n",
    "            bigger_eighty += 1\n",
    "    print(len(df))\n",
    "    print(\"0-10 \" + str(zero_to_ten) + \" \" + \"10-30 \" + str(ten_to_thirty) + \" \" +\n",
    "          \" < 50 \" + str(under_fifty) + \" \" + \" >80 \" + str(bigger_eighty))"
   ],
   "metadata": {
    "collapsed": false,
    "pycharm": {
     "name": "#%%\n"
    }
   }
  },
  {
   "cell_type": "code",
   "execution_count": 35,
   "outputs": [
    {
     "name": "stdout",
     "output_type": "stream",
     "text": [
      "104\n",
      "0-10 81 10-30 17  < 50 103  >80 0\n",
      "103\n",
      "0-10 5 10-30 27  < 50 70  >80 6\n",
      "98\n",
      "0-10 6 10-30 40  < 50 79  >80 1\n"
     ]
    }
   ],
   "source": [
    "percent(\"cpu.csv\")\n",
    "percent(\"disk.csv\")\n",
    "percent(\"memory.csv\")"
   ],
   "metadata": {
    "collapsed": false,
    "pycharm": {
     "name": "#%%\n"
    }
   }
  }
 ],
 "metadata": {
  "kernelspec": {
   "display_name": "Python 3",
   "language": "python",
   "name": "python3"
  },
  "language_info": {
   "codemirror_mode": {
    "name": "ipython",
    "version": 2
   },
   "file_extension": ".py",
   "mimetype": "text/x-python",
   "name": "python",
   "nbconvert_exporter": "python",
   "pygments_lexer": "ipython2",
   "version": "2.7.6"
  }
 },
 "nbformat": 4,
 "nbformat_minor": 0
}